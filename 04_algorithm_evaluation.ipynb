{
 "cells": [
  {
   "cell_type": "markdown",
   "id": "7ed5b6bd",
   "metadata": {},
   "source": [
    "# 1. Introduction\n",
    "First, we have to activate the environment. The first run may take a while as external libraries will be downloaded and compiled."
   ]
  },
  {
   "cell_type": "code",
   "execution_count": 1,
   "id": "01c7014d",
   "metadata": {},
   "outputs": [
    {
     "name": "stderr",
     "output_type": "stream",
     "text": [
      "\u001b[32m\u001b[1m  Activating\u001b[22m\u001b[39m project at `~/code/OpenScience21.jl`\n"
     ]
    }
   ],
   "source": [
    "Pkg.activate(\".\")"
   ]
  },
  {
   "cell_type": "code",
   "execution_count": 2,
   "id": "ff1ad412",
   "metadata": {},
   "outputs": [],
   "source": [
    "#using QuantumCircuits.QCircuits.Qiskit\n",
    "#using QuantumCircuits.QCircuits.Qiskit: qiskit\n",
    "\n",
    "using QuantumCircuits\n",
    "using QuantumCircuits.QML\n",
    "using QuantumCircuits.QML.Optimization\n",
    "using QuantumCircuits.QCircuits.Circuit\n",
    "using QuantumCircuits.QCircuits.ComplexGates\n",
    "using QuantumCircuits.Execute"
   ]
  },
  {
   "cell_type": "markdown",
   "id": "167cc94d",
   "metadata": {},
   "source": [
    "# 2. The Algorithm\n",
    "Define the backend, this is a simulator written in Julia. The main advantage of it is that the circuit executed on them can be automated differentiated by Zygote so each iteration of the QML algorithm takes less time (single execution of zygote vs execute whole circuits twice times that we have parameters for using shift-rules, in our case 27*2=54)."
   ]
  },
  {
   "cell_type": "code",
   "execution_count": 3,
   "id": "3fb806d2",
   "metadata": {},
   "outputs": [
    {
     "data": {
      "text/plain": [
       "QuantumSimulator()"
      ]
     },
     "execution_count": 3,
     "metadata": {},
     "output_type": "execute_result"
    }
   ],
   "source": [
    "const backend = QuantumSimulator()"
   ]
  },
  {
   "cell_type": "code",
   "execution_count": 4,
   "id": "f567cb77",
   "metadata": {},
   "outputs": [],
   "source": [
    "# The init file contains useful scripts and imports as well as connections to the IBM Qiskit account.\n",
    "#include(\"src/Challenge/init.jl\")"
   ]
  },
  {
   "cell_type": "markdown",
   "id": "9f246659",
   "metadata": {},
   "source": [
    "The method to the generation of the empty circuit."
   ]
  },
  {
   "cell_type": "code",
   "execution_count": 5,
   "id": "9e56737d",
   "metadata": {},
   "outputs": [
    {
     "data": {
      "text/plain": [
       "generate_empty_circuit (generic function with 1 method)"
      ]
     },
     "execution_count": 5,
     "metadata": {},
     "output_type": "execute_result"
    }
   ],
   "source": [
    "function generate_empty_circuit(;init=false)\n",
    "    qr = QuantumRegister(7, \"q\")\n",
    "    qc = QCircuit(qr)\n",
    "\n",
    "    # Prepare initial state (remember we are only evolving 3 of the 7 qubits on jakarta qubits (q_5, q_3, q_1) corresponding to the state |110>)\n",
    "    if init\n",
    "        qc.x([3, 5])  # DO NOT MODIFY (|q_5,q_3,q_1> = |110>)\n",
    "    end\n",
    "\n",
    "    return qc\n",
    "end\n"
   ]
  },
  {
   "cell_type": "markdown",
   "id": "42fbdbd7",
   "metadata": {},
   "source": [
    "The method to the generation of the ansact."
   ]
  },
  {
   "cell_type": "code",
   "execution_count": 6,
   "id": "33e0281d",
   "metadata": {},
   "outputs": [
    {
     "data": {
      "text/plain": [
       "generate_ansact (generic function with 1 method)"
      ]
     },
     "execution_count": 6,
     "metadata": {},
     "output_type": "execute_result"
    }
   ],
   "source": [
    "function generate_ansact()\n",
    "    n = 3\n",
    "    qr = QuantumRegister(7, \"q\")\n",
    "    qc = QCircuit(qr)\n",
    "    qr = [qr[1], qr[3], qr[5]]\n",
    "\n",
    "    qc.u3(qr)\n",
    "    for i in (n-2):-1:0\n",
    "        i = i+1\n",
    "        qc.cx(qr[i], qr[i+1])\n",
    "        #qc.rzx(qr[i], qr[i+1])\n",
    "    end\n",
    "    qc.u3(qr)\n",
    "    for i in 0:(n-2)\n",
    "        i = i+1\n",
    "        qc.cx(qr[i], qr[i+1])\n",
    "        #qc.rzx(qr[i], qr[i+1])\n",
    "    end\n",
    "    qc.u3(qr)\n",
    "\n",
    "    return qc\n",
    "end"
   ]
  },
  {
   "cell_type": "markdown",
   "id": "1c517a35",
   "metadata": {},
   "source": [
    "The method adds measurement to the circuit."
   ]
  },
  {
   "cell_type": "code",
   "execution_count": 7,
   "id": "8079e76e",
   "metadata": {},
   "outputs": [
    {
     "data": {
      "text/plain": [
       "addMeasuresOS (generic function with 1 method)"
      ]
     },
     "execution_count": 7,
     "metadata": {},
     "output_type": "execute_result"
    }
   ],
   "source": [
    "function addMeasuresOS(qc)\n",
    "    cr = ClassicalRegister(3)\n",
    "    setClassicalRegister!(qc, cr)\n",
    "    qc.measure([1, 3, 5], [0, 1, 2])\n",
    "    nothing\n",
    "end"
   ]
  },
  {
   "cell_type": "code",
   "execution_count": 8,
   "id": "346d69db",
   "metadata": {},
   "outputs": [
    {
     "data": {
      "text/plain": [
       "loss_expected_zero_state"
      ]
     },
     "execution_count": 8,
     "metadata": {},
     "output_type": "execute_result"
    }
   ],
   "source": [
    "# This is method from QuantumCircuits.Execute\n",
    "\"Loss method to check if final state is zero.\"\n",
    "function loss_expected_zero_state(state)\n",
    "    return -log(real(state[1])+1e-32) + sum([real(v)^2 for v in state[2:end]])\n",
    "end\n"
   ]
  },
  {
   "cell_type": "markdown",
   "id": "ae847530",
   "metadata": {},
   "source": [
    "The next function finds the best ansac parameters, the main steps are:\n",
    "1. Generation of the empty circuit\n",
    "1. Generation of the ansact\n",
    "1. Append both to single circuit\n",
    "1. Add measure\n",
    "1. Generate rand parameters\n",
    "1. Define loss function, it has a minimum equal to 0 when the executed state is $|000\\rangle$\n",
    "1. Using Zygote, we define the gradient\n",
    "1. Using the gradient descent method Eva (see [06_Optimization](06_Optimization.ipynb)) we try to find the best parameters."
   ]
  },
  {
   "cell_type": "code",
   "execution_count": 9,
   "id": "7671211e",
   "metadata": {},
   "outputs": [
    {
     "data": {
      "text/plain": [
       "generate_ansact_param (generic function with 2 methods)"
      ]
     },
     "execution_count": 9,
     "metadata": {},
     "output_type": "execute_result"
    }
   ],
   "source": [
    "function generate_ansact_param(step_qc_exp, maxItr=1000)\n",
    "    # Generate step qc\n",
    "    step_qc = generate_empty_circuit()\n",
    "    ansact = generate_ansact()\n",
    "    # append\n",
    "    append!(step_qc, step_qc_exp)\n",
    "    append!(step_qc, ansact)\n",
    "    # Add measures\n",
    "    addMeasuresOS(step_qc)\n",
    "\n",
    "    # Set random parameters\n",
    "    start_params = getRandParameters(step_qc)\n",
    "    setparameters!(ansact, start_params)\n",
    "\n",
    "\n",
    "    loss(params) = loss_expected_zero_state(execute(backend, step_qc, params))\n",
    "    dloss(params) = real(loss'(params))\n",
    "    of = OptimizationFunction(false, (x) -> (loss(x), dloss(x)), loss)\n",
    "\n",
    "    val, xparams, itr = gradientDescent(of, start_params, α=0.01, maxItr=maxItr,\n",
    "                                  argsArePeriodic=true, isExpectedZero=true, ϵ=1e-4, debug=false, useBigValInc=true)\n",
    "\n",
    "    return xparams\n",
    "end"
   ]
  },
  {
   "cell_type": "markdown",
   "id": "73aa5803",
   "metadata": {},
   "source": [
    "We define the Trotter step number and the number of trotter steps used in a single optimization process. I always use 2, but this may be changed and the method will work properly. There is one point to note, when we use more trotter step in a single iteration there will be less number of the iteration and so one whole algorithm runs quicker from the other hand less number of trotter step work better on real devices (the circuit has less depth and a smaller number of cx gates). For a description of the algorithm look at the notebook [01_solution](01_solution.ipynb)."
   ]
  },
  {
   "cell_type": "code",
   "execution_count": 10,
   "id": "927215b1",
   "metadata": {},
   "outputs": [],
   "source": [
    "trotter_steps = 10\n",
    "trotter_steps_arr = [2, 2, 2, 2, 2]\n",
    "nothing"
   ]
  },
  {
   "cell_type": "markdown",
   "id": "c7dcea47",
   "metadata": {},
   "source": [
    "The code below is used to generate the trotter circuit, you can find the description of it in the notebook [03_trotter_step](03_trotter_step.ipynb)."
   ]
  },
  {
   "cell_type": "code",
   "execution_count": 11,
   "id": "f535eb95",
   "metadata": {},
   "outputs": [
    {
     "data": {
      "text/plain": [
       "check_simulation_err (generic function with 1 method)"
      ]
     },
     "execution_count": 11,
     "metadata": {},
     "output_type": "execute_result"
    }
   ],
   "source": [
    "# This code com from using OpenScience21.Simulation.Gates module.\n",
    "function ZZ(qc, q0, q1, t, usePulse=false)\n",
    "    if usePulse\n",
    "        qc.h(q1)\n",
    "        qc.rzx(q0, q1, t)\n",
    "        qc.x(q0)\n",
    "        qc.rzx(q0, q1, -t)\n",
    "        qc.x(q0)\n",
    "        qc.h(q1)\n",
    "    else\n",
    "        qc.cx(q0, q1)\n",
    "        qc.rz(q1, 2*t)\n",
    "        qc.cx(q0, q1)\n",
    "    end\n",
    "end\n",
    "\n",
    "function YY(qc, q0, q1, t, usePulse=false)\n",
    "    if usePulse\n",
    "        qc.sdg([q0, q1])\n",
    "        qc.h(q0)\n",
    "        qc.rzx(q0, q1, t)\n",
    "        qc.x(q0)\n",
    "        qc.rzx(q0, q1, -t)\n",
    "        qc.x(q0)\n",
    "        qc.h(q0)\n",
    "        qc.s([q0, q1])\n",
    "    else\n",
    "        qc.rx([q0, q1], π/2)\n",
    "        qc.cx(q0, q1)\n",
    "        qc.rz(q1, 2*t)\n",
    "        qc.cx(q0, q1)\n",
    "        qc.rx([q0, q1], -π/2)\n",
    "    end\n",
    "end\n",
    "\n",
    "function XX(qc, q0, q1, t, usePulse=false)\n",
    "    if usePulse\n",
    "        qc.h(q0)\n",
    "        qc.rzx(q0, q1, t)\n",
    "        qc.x(q0)\n",
    "        qc.rzx(q0, q1, -t)\n",
    "        qc.x(q0)\n",
    "        qc.h(q0)\n",
    "    else\n",
    "        qc.ry([q0, q1], π/2)\n",
    "        qc.cx(q0, q1)\n",
    "        qc.rz(q1, 2*t)\n",
    "        qc.cx(q0, q1)\n",
    "        qc.ry([q0, q1], -π/2)\n",
    "    end\n",
    "end\n",
    "\n",
    "# This code com from using OpenScience21.Simulation.Gates module.\n",
    "function findU4paramsZZYYXX(t; debug=false)\n",
    "    qc = QCircuit(2)\n",
    "    ZZ(qc, 0, 1, t)\n",
    "    YY(qc, 0, 1, t)\n",
    "    XX(qc, 0, 1, t)\n",
    "    expmat = tomatrix(qc)\n",
    "\n",
    "\n",
    "    qr = QuantumRegister(2)\n",
    "    qc = QCircuit(qr)\n",
    "    qc.u4(qr[0], qr[1])\n",
    "\n",
    "    params = getRandParameters(qc)\n",
    "    setparameters!(qc, params)\n",
    "    qc = decompose(qc)\n",
    "\n",
    "    params, _, err, _  = findparam(expmat, qc, debug=debug, trystandard=false)\n",
    "\n",
    "    @assert err < 1e-5 \"The error of U gate should be small but it is $err.\"\n",
    "\n",
    "    return params\n",
    "end\n",
    "\n",
    "function findU4paramsZZYYXXx2(t; debug=false)\n",
    "    qc = QCircuit(2)\n",
    "    ZZ(qc, 0, 1, t)\n",
    "    YY(qc, 0, 1, t)\n",
    "    XX(qc, 0, 1, t)\n",
    "    ZZ(qc, 0, 1, t)\n",
    "    YY(qc, 0, 1, t)\n",
    "    XX(qc, 0, 1, t)\n",
    "    expmat = tomatrix(qc)\n",
    "\n",
    "\n",
    "    qr = QuantumRegister(2)\n",
    "    qc = QCircuit(qr)\n",
    "    qc.u4(qr[0], qr[1])\n",
    "\n",
    "    params = getRandParameters(qc)\n",
    "    setparameters!(qc, params)\n",
    "    qc = decompose(qc)\n",
    "\n",
    "    params, _, err, _  = findparam(expmat, qc, debug=debug, trystandard=false)\n",
    "    @assert err < 1e-5 \"The error of U gate should be small but it is $err.\"\n",
    "\n",
    "    return params\n",
    "end\n",
    "\n",
    "function trotter2U4(qc, qubits, t, isFirst, isLast, params, params2, params3)\n",
    "    if isFirst\n",
    "        for i in 1:(length(qubits)-2)\n",
    "            qc.u4(qubits[i], qubits[i+1], params2)\n",
    "        end\n",
    "    end\n",
    "\n",
    "    i = length(qubits) - 1\n",
    "    qc.u4(qubits[i], qubits[i+1], params)\n",
    "\n",
    "    if isLast\n",
    "        for i in 1:(length(qubits)-2)\n",
    "            qc.u4(qubits[i], qubits[i+1], params2)\n",
    "        end\n",
    "    else\n",
    "        for i in 1:(length(qubits)-2)\n",
    "            qc.u4(qubits[i], qubits[i+1], params3)\n",
    "        end\n",
    "    end\n",
    "end\n",
    "\n",
    "function generate_circuit(trotter_steps, run_step, t=π, params=nothing, params2=nothing, params3=nothing; init=false, debug=false)\n",
    "    qr = QuantumRegister(7, \"q\")\n",
    "    qc = QCircuit(qr)\n",
    "\n",
    "    # Prepare initial state (remember we are only evolving 3 of the 7 qubits on jakarta qubits (q_5, q_3, q_1) corresponding to the state |110>)\n",
    "    if init\n",
    "        qc.x([3, 5])  # DO NOT MODIFY (|q_5,q_3,q_1> = |110>)\n",
    "    end\n",
    "\n",
    "    if params == nothing\n",
    "        params = findU4paramsZZYYXX(t / trotter_steps, debug=debug)\n",
    "        params2 = findU4paramsZZYYXX(t / (2 * trotter_steps), debug=debug)\n",
    "        params3 = findU4paramsZZYYXXx2(t / (2 * trotter_steps), debug=debug)\n",
    "    end\n",
    "\n",
    "    qubits = [qr[1], qr[3], qr[5]]\n",
    "    for s in 1:run_step\n",
    "        isFirst = s == 1\n",
    "        isLast = s == run_step\n",
    "\n",
    "        trotter2U4(qc, qubits, t / trotter_steps, isFirst, isLast, params, params2, params3)\n",
    "    end\n",
    "\n",
    "    qc = decompose(qc)\n",
    "    return qc, params, params2, params3\n",
    "end\n",
    "\n",
    "using QuantumCircuits.QCircuits.Math\n",
    "using QuantumCircuits.QCircuits.Gates: Xmatrix, Ymatrix, Zmatrix\n",
    "\n",
    "XXs = kron(kron(eye(2), Xmatrix), Xmatrix) + kron(kron(Xmatrix, Xmatrix), eye(2))\n",
    "YYs = kron(kron(eye(2), Ymatrix), Ymatrix) + kron(kron(Ymatrix, Ymatrix), eye(2))\n",
    "ZZs = kron(kron(eye(2), Zmatrix), Zmatrix) + kron(kron(Zmatrix, Zmatrix), eye(2))\n",
    "Hs = XXs + YYs + ZZs\n",
    "\n",
    "U_heis3(t) = exp(-im * Hs * t)\n",
    "\n",
    "function check_simulation_err(qc, t)\n",
    "    sym_full = execute(backend, qc)\n",
    "    exp_full = U_heis3(t) * ket\"110\"\n",
    "    exp_full = abs.(exp_full) .^ 2\n",
    "    return sum(abs.(sym_full - exp_full))\n",
    "end"
   ]
  },
  {
   "cell_type": "markdown",
   "id": "4ff6a686",
   "metadata": {},
   "source": [
    "The below method compares the results of the execution of two circuits."
   ]
  },
  {
   "cell_type": "code",
   "execution_count": 12,
   "id": "55bf644a",
   "metadata": {},
   "outputs": [
    {
     "data": {
      "text/plain": [
       "check_circuits_err (generic function with 1 method)"
      ]
     },
     "execution_count": 12,
     "metadata": {},
     "output_type": "execute_result"
    }
   ],
   "source": [
    "function check_circuits_err(qc1, qc2)\n",
    "    sym1 = execute(backend, qc1)\n",
    "    sym2 = execute(backend, qc2)\n",
    "\n",
    "    sum(abs.(sym1 - sym2))\n",
    "end"
   ]
  },
  {
   "cell_type": "markdown",
   "id": "a981eabc",
   "metadata": {},
   "source": [
    "# 3. The Evaluation\n",
    "We are now putting all the pieces together. For all simulation times which we would like to check we do the whole procedure:\n",
    "* For the first step, we generate a circuit with 2 trotter steps and the ansact. And we find the parameters that the output state is $|000\\rangle$.\n",
    "* For the next steps, we generate a circuit with the inverse of the ansact from the previous step, 2 trotter steps, and the new ansact. And we find the parameters that the output state is $|000\\rangle$.\n",
    "\n",
    "I use exactly the same ansact for all iterations but when can have different ansacts for other iterations. It is quite easy to check if the found parameters are properly. If the output state for a given iteration is near the $|000\\rangle$ then we can go to the next step."
   ]
  },
  {
   "cell_type": "code",
   "execution_count": 13,
   "id": "9b7eac00",
   "metadata": {},
   "outputs": [
    {
     "name": "stdout",
     "output_type": "stream",
     "text": [
      "Start for t=0.7853981633974483\n",
      "After iteration 1000, value: 0.0005443169443671981, best: 0.0004795506699154643, dval: 0.004959093947253287, H: 1.6656155474379078e8, α: 0.6495514041771517, diffx: 0.002919522838916222\n",
      "After iteration 2000, value: 1.7596711537268157, best: 2.282472757415722e-5, dval: 2.437504343499535, H: 117626.06634120029, α: 12.07315509441982, diffx: 3.631353867799774\n",
      "After iteration 3000, value: 4.260737393445782e-6, best: 4.260737393445782e-6, dval: 0.0008922164520049825, H: 142.11180213618434, α: 0.8845737200114944, diffx: 7.210214038011475e-5\n",
      "After iteration 4000, value: 0.00040012627347736987, best: 1.9462701451067405e-6, dval: 0.029762902416208936, H: 156.8194366334606, α: 0.5087869760592589, diffx: 0.0012575677833952525\n",
      "Start AI TS 2\n",
      "Check value: 0.008170403227342105\n",
      "Start AI TS 4\n",
      "Check value: 0.012503386217069118\n",
      "Start AI TS 6\n",
      "Check value: 0.01272394945455379\n",
      "Start AI TS 8\n",
      "Check value: 0.013312241174504833\n",
      "Start AI TS 10\n",
      "Start for t=1.5707963267948966\n",
      "Start AI TS 2\n",
      "Check value: 0.0040444821593273\n",
      "Start AI TS 4\n",
      "Check value: 0.00443215144737197\n",
      "Start AI TS 6\n",
      "Check value: 0.0050211739248735105\n",
      "Start AI TS 8\n",
      "Check value: 0.005817922940667054\n",
      "Start AI TS 10\n",
      "Start for t=2.356194490192345\n",
      "Start AI TS 2\n",
      "Check value: 0.003948236318926756\n",
      "Start AI TS 4\n",
      "Check value: 0.0035942013164185637\n",
      "Start AI TS 6\n",
      "After iteration 1000, value: 0.00046711309983639746, best: 0.00016336176717369322, dval: 0.017434114498388165, H: 1.5288594541378394e7, α: 4.890138981979994, diffx: 0.03536890350683208\n",
      "Check value: 0.003216842328563078\n",
      "Start AI TS 8\n",
      "Check value: 0.0020915121831992134\n",
      "Start AI TS 10\n",
      "Start for t=3.141592653589793\n",
      "Start AI TS 2\n",
      "Check value: 0.0005417817581010718\n",
      "Start AI TS 4\n",
      "Check value: 0.0008327224342876752\n",
      "Start AI TS 6\n",
      "Check value: 0.001321174451993271\n",
      "Start AI TS 8\n",
      "Check value: 0.0009331531543282224\n",
      "Start AI TS 10\n"
     ]
    }
   ],
   "source": [
    "errs = []\n",
    "ts = [π/4, π/2, 3*π/4, π]\n",
    "#ts = [π]\n",
    "best_param = []\n",
    "best_qc = nothing\n",
    "for t in ts\n",
    "    println(\"Start for t=$t\")\n",
    "    qc, params, params2, params3 = generate_circuit(trotter_steps, trotter_steps, t)\n",
    "\n",
    "    full_qc = generate_empty_circuit()\n",
    "    full_qc.x([3, 5])\n",
    "    append!(full_qc, qc)\n",
    "    addMeasuresOS(full_qc)\n",
    "\n",
    "    ###########################################################################\n",
    "    do_iter = 0\n",
    "    do_check = true\n",
    "    first_step = true\n",
    "    inv_ansact = []\n",
    "    for st in trotter_steps_arr\n",
    "        step_qc_exp, _, _, _ = generate_circuit(trotter_steps, st, t, params, params2, params3, init=first_step)\n",
    "        #step_qc_expmat = tomatrix(step_qc)\n",
    "        do_iter += st\n",
    "        println(\"Start AI TS $do_iter\")\n",
    "\n",
    "        if first_step\n",
    "            opt_step_qc_exp = step_qc_exp\n",
    "        else\n",
    "            opt_step_qc_exp = generate_empty_circuit()\n",
    "            append!(opt_step_qc_exp, inv_ansact)\n",
    "            append!(opt_step_qc_exp, step_qc_exp)\n",
    "        end\n",
    "\n",
    "        # find best parameters\n",
    "        best_params = generate_ansact_param(opt_step_qc_exp, 10000)\n",
    "\n",
    "        # Generate ansact\n",
    "        ansact = generate_ansact()\n",
    "        setparameters!(ansact, best_params)\n",
    "        inv_ansact = inv(ansact)\n",
    "        bindparameters!(inv_ansact)\n",
    "\n",
    "        # Check step reaults\n",
    "        if do_check && do_iter < trotter_steps\n",
    "            check_qc, _, _, _ = generate_circuit(trotter_steps, trotter_steps-do_iter, t, params, params2, params3)\n",
    "\n",
    "            # Simulate full circuit\n",
    "            check_step_qc_full = generate_empty_circuit()\n",
    "            append!(check_step_qc_full, inv_ansact)\n",
    "            append!(check_step_qc_full, check_qc)\n",
    "            # Add measures\n",
    "            addMeasuresOS(check_step_qc_full)\n",
    "\n",
    "            # do check\n",
    "            check_err = check_circuits_err(full_qc, check_step_qc_full)\n",
    "            println(\"Check value: $check_err\")\n",
    "            @assert check_err < 10e-2\n",
    "        end\n",
    "\n",
    "        # next initmat\n",
    "        first_step = false\n",
    "    end\n",
    "\n",
    "    ###########################################################################\n",
    "    addMeasuresOS(inv_ansact)\n",
    "    check_err = check_circuits_err(full_qc, inv_ansact)\n",
    "    append!(errs, check_err)\n",
    "end"
   ]
  },
  {
   "cell_type": "markdown",
   "id": "95d05a4e",
   "metadata": {},
   "source": [
    "The error of the method. Please note that we can improve the error when we will use more iterations to find the best parameters."
   ]
  },
  {
   "cell_type": "code",
   "execution_count": 14,
   "id": "9903c8fc",
   "metadata": {},
   "outputs": [
    {
     "name": "stdout",
     "output_type": "stream",
     "text": [
      "==============================\n",
      "The error is 0.02277650357248752.\n",
      "==============================\n"
     ]
    }
   ],
   "source": [
    "println(\"==============================\")\n",
    "println(\"The error is $(sum(errs)).\")\n",
    "println(\"==============================\")"
   ]
  },
  {
   "cell_type": "code",
   "execution_count": 15,
   "id": "794626ae",
   "metadata": {},
   "outputs": [
    {
     "data": {
      "text/plain": [
       "4-element Vector{Any}:\n",
       " 0.013550464170137515\n",
       " 0.005693337607823896\n",
       " 0.0024389045697131686\n",
       " 0.0010937972248129387"
      ]
     },
     "execution_count": 15,
     "metadata": {},
     "output_type": "execute_result"
    }
   ],
   "source": [
    "errs"
   ]
  }
 ],
 "metadata": {
  "kernelspec": {
   "display_name": "Julia 1.7.2",
   "language": "julia",
   "name": "julia-1.7"
  },
  "language_info": {
   "file_extension": ".jl",
   "mimetype": "application/julia",
   "name": "julia",
   "version": "1.7.2"
  }
 },
 "nbformat": 4,
 "nbformat_minor": 5
}
