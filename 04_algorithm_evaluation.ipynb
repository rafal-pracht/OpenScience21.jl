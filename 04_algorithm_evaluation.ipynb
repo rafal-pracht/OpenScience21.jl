{
 "cells": [
  {
   "cell_type": "markdown",
   "metadata": {},
   "source": [
    "# 1 Introduction\n",
    "First, we have to activate the environment. The first run may take a while as external libraries will be downloaded and compiled."
   ]
  },
  {
   "cell_type": "code",
   "execution_count": 1,
   "metadata": {},
   "outputs": [
    {
     "name": "stderr",
     "output_type": "stream",
     "text": [
      "\u001b[32m\u001b[1m  Activating\u001b[22m\u001b[39m project at `~/code/OpenScience21.jl`\n"
     ]
    }
   ],
   "source": [
    "Pkg.activate(\".\")"
   ]
  },
  {
   "cell_type": "code",
   "execution_count": 2,
   "metadata": {},
   "outputs": [
    {
     "data": {
      "text/plain": [
       "evaluate (generic function with 1 method)"
      ]
     },
     "execution_count": 2,
     "metadata": {},
     "output_type": "execute_result"
    }
   ],
   "source": [
    "include(\"src/Challenge/init.jl\")"
   ]
  },
  {
   "cell_type": "code",
   "execution_count": 3,
   "metadata": {},
   "outputs": [
    {
     "data": {
      "text/plain": [
       "generate_ansact_param (generic function with 2 methods)"
      ]
     },
     "execution_count": 3,
     "metadata": {},
     "output_type": "execute_result"
    }
   ],
   "source": [
    "function generate_ansact_param(step_qc_exp, maxItr=1000)\n",
    "    # Generate step qc\n",
    "    step_qc = generate_empty_circuit()\n",
    "    ansact = generate_ansact()\n",
    "    # append\n",
    "    append!(step_qc, step_qc_exp)\n",
    "    append!(step_qc, ansact)\n",
    "    length(getparameters(ansact))\n",
    "    # Add measures\n",
    "    addMeasuresOS(step_qc)\n",
    "\n",
    "    # Set random parameters\n",
    "    start_params = getRandParameters(step_qc)\n",
    "    setparameters!(ansact, start_params)\n",
    "\n",
    "\n",
    "    loss(params) = loss_expected_zero_state(execute(backend, step_qc, params))\n",
    "    dloss(params) = real(loss'(params))\n",
    "    of = OptimizationFunction(false, (x) -> (loss(x), dloss(x)), loss)\n",
    "\n",
    "    val, xparams, itr = gradientDescent(of, start_params, α=0.01, maxItr=maxItr,\n",
    "                                  argsArePeriodic=true, isExpectedZero=true, ϵ=1e-4, debug=false, useBigValInc=true)\n",
    "\n",
    "    return xparams\n",
    "end"
   ]
  },
  {
   "cell_type": "code",
   "execution_count": 4,
   "metadata": {},
   "outputs": [
    {
     "data": {
      "text/plain": [
       "5-element Vector{Int64}:\n",
       " 2\n",
       " 2\n",
       " 2\n",
       " 2\n",
       " 2"
      ]
     },
     "execution_count": 4,
     "metadata": {},
     "output_type": "execute_result"
    }
   ],
   "source": [
    "trotter_steps = 10\n",
    "trotter_steps_arr = [2, 2, 2, 2, 2]"
   ]
  },
  {
   "cell_type": "code",
   "execution_count": 5,
   "metadata": {},
   "outputs": [
    {
     "name": "stdout",
     "output_type": "stream",
     "text": [
      "Start for t=0.7853981633974483\n",
      "After iteration 1000, value: 0.015599789622868959, best: 0.005586068650886377, dval: 0.02987228140663678, H: 871.3816711959496, α: 0.4640980415170238, diffx: 0.004894621514671016\n",
      "After iteration 2000, value: 0.006035989605285624, best: 0.005586068650886377, dval: 0.0013380084287622136, H: 1209.5728596131887, α: 1.2496094842657737, diffx: 0.0002477094846771166\n",
      "After iteration 3000, value: 0.004221548461320562, best: 0.003868500649803083, dval: 0.007535816657882252, H: 51.60057885480154, α: 1.4668517896988849, diffx: 0.06083665203832478\n",
      "After iteration 4000, value: 0.0015783711776335152, best: 0.0001782002920890941, dval: 0.007454074609969478, H: 8422.59085478904, α: 1.3948004774963603, diffx: 0.0024250640298308923\n",
      "After iteration 5000, value: 1.9384199386460297e-5, best: 1.9384199386460297e-5, dval: 0.010166592080290542, H: 447.6238143761011, α: 0.6120847308880527, diffx: 5.9221969959353e-6\n",
      "ERROR: We are going to slow, diffx is equal to: 1.0710246547030334e-7\n",
      "Start AI TS 2\n",
      "After iteration 1000, value: 0.0001516089297621946, best: 0.0001516089297621946, dval: 0.0006423244015933745, H: 8.209015224912395e8, α: 57.27681556706703, diffx: 0.0004467518258590708\n",
      "Check value: 0.0008704265230419325, 0.0017100535235821913\n",
      "Start AI TS 4\n",
      "Check value: 0.0005831629983898305, 0.001960220861846056\n",
      "Start AI TS 6\n",
      "Check value: 0.004722401250175136, 0.00648037332480173\n",
      "Start AI TS 8\n",
      "Check value: 0.00914097703153066, 0.011177212004484753\n",
      "Start AI TS 10\n",
      "Start for t=1.5707963267948966\n",
      "Start AI TS 2\n",
      "Check value: 0.0015507493647616676, 0.0017075803882885309\n",
      "Start AI TS 4\n",
      "Check value: 0.00263642799895443, 0.0032391631302081175\n",
      "Start AI TS 6\n",
      "Check value: 0.007486350734524706, 0.008089085865778393\n",
      "Start AI TS 8\n",
      "Check value: 0.0071202152944928754, 0.007722950425746563\n",
      "Start AI TS 10\n",
      "Start for t=2.356194490192345\n",
      "Start AI TS 2\n",
      "Check value: 0.16410450272818725, 0.00281805052247139\n",
      "Start AI TS 4\n",
      "Check value: 0.16467731249967554, 0.0029817066059775682\n",
      "Start AI TS 6\n",
      "Check value: 0.1641454739170177, 0.005181091843992529\n",
      "Start AI TS 8\n",
      "Check value: 0.16615199005370856, 0.0015407237445547036\n",
      "Start AI TS 10\n",
      "Start for t=3.141592653589793\n",
      "Start AI TS 2\n",
      "Check value: 0.10296429576944192, 0.0004433801136649555\n",
      "Start AI TS 4\n",
      "Check value: 0.10206767717142125, 0.0007846139053035466\n",
      "Start AI TS 6\n",
      "Check value: 0.10142615930897278, 0.0014883956607957812\n",
      "Start AI TS 8\n",
      "Check value: 0.10256831381608128, 0.0007516160212819159\n",
      "Start AI TS 10\n"
     ]
    }
   ],
   "source": [
    "\n",
    "errs = []\n",
    "errsai = []\n",
    "ts = [π/4, π/2, 3*π/4, π]\n",
    "#ts = [π]\n",
    "best_param = []\n",
    "best_qc = nothing\n",
    "for t in ts\n",
    "    println(\"Start for t=$t\")\n",
    "    qc, params, params2, params3 = generate_circuit(trotter_steps, trotter_steps, t)\n",
    "\n",
    "    full_qc = generate_empty_circuit()\n",
    "    full_qc.x([3, 5])\n",
    "    append!(full_qc, qc)\n",
    "    addMeasuresOS(full_qc)\n",
    "\n",
    "    # caclulate the end state\n",
    "    uerr = check_simulation_err(full_qc, t)\n",
    "\n",
    "    ###########################################################################\n",
    "    do_iter = 0\n",
    "    do_check = true\n",
    "    first_step = true\n",
    "    inv_ansact = []\n",
    "    for st in trotter_steps_arr\n",
    "        step_qc_exp, _, _, _ = generate_circuit(trotter_steps, st, t, params, params2, params3, init=first_step)\n",
    "        #step_qc_expmat = tomatrix(step_qc)\n",
    "        do_iter += st\n",
    "        println(\"Start AI TS $do_iter\")\n",
    "\n",
    "        if first_step\n",
    "            opt_step_qc_exp = step_qc_exp\n",
    "        else\n",
    "            opt_step_qc_exp = generate_empty_circuit()\n",
    "            append!(opt_step_qc_exp, inv_ansact)\n",
    "            append!(opt_step_qc_exp, step_qc_exp)\n",
    "        end\n",
    "\n",
    "        # find best parameters\n",
    "        best_params = generate_ansact_param(opt_step_qc_exp, 10000)\n",
    "\n",
    "        # Generate ansact\n",
    "        ansact = generate_ansact()\n",
    "        setparameters!(ansact, best_params)\n",
    "        inv_ansact = inv(ansact)\n",
    "        bindparameters!(inv_ansact)\n",
    "\n",
    "        # Check step reaults\n",
    "        if do_check && do_iter < trotter_steps\n",
    "            check_qc, _, _, _ = generate_circuit(trotter_steps, trotter_steps-do_iter, t, params, params2, params3)\n",
    "\n",
    "            # Simulate full circuit\n",
    "            check_step_qc_full = generate_empty_circuit()\n",
    "            append!(check_step_qc_full, inv_ansact)\n",
    "            append!(check_step_qc_full, check_qc)\n",
    "            # Add measures\n",
    "            addMeasuresOS(check_step_qc_full)\n",
    "\n",
    "            # do check\n",
    "            check_err = check_simulation_err(check_step_qc_full, t)\n",
    "            check_err2 = check_circuits_err(full_qc, check_step_qc_full)\n",
    "            println(\"Check value: $check_err, $check_err2\")\n",
    "            @assert check_err2 < 10e-2\n",
    "        end\n",
    "\n",
    "        # next initmat\n",
    "        first_step = false\n",
    "    end\n",
    "\n",
    "    ###########################################################################\n",
    "    addMeasuresOS(inv_ansact)\n",
    "    check_err = check_simulation_err(inv_ansact, t)\n",
    "    check_err2 = check_circuits_err(full_qc, inv_ansact)\n",
    "    append!(errs, check_err)\n",
    "    append!(errsai, check_err2)\n",
    "end"
   ]
  },
  {
   "cell_type": "code",
   "execution_count": 6,
   "metadata": {},
   "outputs": [
    {
     "name": "stdout",
     "output_type": "stream",
     "text": [
      "==============================\n",
      "The error Ai is 0.00515130413847824.\n",
      "==============================\n"
     ]
    }
   ],
   "source": [
    "println(\"==============================\")\n",
    "#println(\"The error is $(sum(errs)).\")\n",
    "println(\"The error Ai is $(mean(errsai)).\")\n",
    "println(\"==============================\")"
   ]
  }
 ],
 "metadata": {
  "kernelspec": {
   "display_name": "Julia 1.7.2",
   "language": "julia",
   "name": "julia-1.7"
  },
  "language_info": {
   "file_extension": ".jl",
   "mimetype": "application/julia",
   "name": "julia",
   "version": "1.7.2"
  }
 },
 "nbformat": 4,
 "nbformat_minor": 5
}
