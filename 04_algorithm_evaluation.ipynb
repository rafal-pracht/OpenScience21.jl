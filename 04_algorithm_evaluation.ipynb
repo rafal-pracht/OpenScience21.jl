{
 "cells": [
  {
   "cell_type": "markdown",
   "id": "6e3f9969",
   "metadata": {},
   "source": [
    "# 1 Introduction\n",
    "First, we have to activate the environment. The first run may take a while as external libraries will be downloaded and compiled."
   ]
  },
  {
   "cell_type": "code",
   "execution_count": 1,
   "id": "1673e8c0",
   "metadata": {},
   "outputs": [],
   "source": [
    "Pkg.activate(\".\")"
   ]
  },
  {
   "cell_type": "code",
   "execution_count": 3,
   "id": "08149e8c",
   "metadata": {},
   "outputs": [
    {
     "data": {
      "text/plain": [
       "evaluate (generic function with 1 method)"
      ]
     },
     "execution_count": 3,
     "metadata": {},
     "output_type": "execute_result"
    }
   ],
   "source": [
    "include(\"src/Challenge/init.jl\")"
   ]
  },
  {
   "cell_type": "code",
   "execution_count": 4,
   "id": "a18a3dde",
   "metadata": {},
   "outputs": [
    {
     "data": {
      "text/plain": [
       "generate_ansact_param (generic function with 2 methods)"
      ]
     },
     "execution_count": 4,
     "metadata": {},
     "output_type": "execute_result"
    }
   ],
   "source": [
    "function generate_ansact_param(step_qc_exp, maxItr=1000)\n",
    "    # Generate step qc\n",
    "    step_qc = generate_empty_circuit()\n",
    "    ansact = generate_ansact()\n",
    "    # append\n",
    "    append!(step_qc, step_qc_exp)\n",
    "    append!(step_qc, ansact)\n",
    "    length(getparameters(ansact))\n",
    "    # Add measures\n",
    "    addMeasuresOS(step_qc)\n",
    "\n",
    "    # Set random parameters\n",
    "    start_params = getRandParameters(step_qc)\n",
    "    setparameters!(ansact, start_params)\n",
    "\n",
    "\n",
    "    loss(params) = loss_expected_zero_state(execute(backend, step_qc, params))\n",
    "    dloss(params) = real(loss'(params))\n",
    "    of = OptimizationFunction(false, (x) -> (loss(x), dloss(x)), loss)\n",
    "\n",
    "    val, xparams, itr = gradientDescent(of, start_params, α=0.01, maxItr=maxItr,\n",
    "                                  argsArePeriodic=true, isExpectedZero=true, ϵ=1e-4, debug=false, useBigValInc=true)\n",
    "\n",
    "    return xparams\n",
    "end"
   ]
  },
  {
   "cell_type": "code",
   "execution_count": 5,
   "id": "6165b802",
   "metadata": {},
   "outputs": [
    {
     "data": {
      "text/plain": [
       "5-element Vector{Int64}:\n",
       " 2\n",
       " 2\n",
       " 2\n",
       " 2\n",
       " 2"
      ]
     },
     "execution_count": 5,
     "metadata": {},
     "output_type": "execute_result"
    }
   ],
   "source": [
    "trotter_steps = 10\n",
    "trotter_steps_arr = [2, 2, 2, 2, 2]"
   ]
  },
  {
   "cell_type": "code",
   "execution_count": 6,
   "id": "51f1587d",
   "metadata": {},
   "outputs": [
    {
     "name": "stdout",
     "output_type": "stream",
     "text": [
      "Start for t=0.7853981633974483\n",
      "Start AI TS 2\n",
      "Check value: 0.05173132946987757, 0.05374363435608954\n",
      "Start AI TS 4\n",
      "Check value: 0.053534419845862144, 0.05554672473207412\n",
      "Start AI TS 6\n",
      "Check value: 0.05546832249340871, 0.05748062737962068\n",
      "Start AI TS 8\n",
      "Check value: 0.05206070091787305, 0.054073005804085035\n",
      "Start AI TS 10\n",
      "Start for t=1.5707963267948966\n",
      "Start AI TS 2\n",
      "Check value: 0.0005816270105747522, 0.00036220769992775044\n",
      "Start AI TS 4\n",
      "Check value: 0.003928152533207231, 0.003986767412904203\n",
      "Start AI TS 6\n",
      "Check value: 0.005965120621054119, 0.0059232146203066025\n",
      "Start AI TS 8\n",
      "Check value: 0.005083339768004516, 0.005141954647701488\n",
      "Start AI TS 10\n"
     ]
    },
    {
     "ename": "LoadError",
     "evalue": "InterruptException:",
     "output_type": "error",
     "traceback": [
      "InterruptException:",
      "",
      "Stacktrace:",
      "  [1] Array",
      "    @ ./boot.jl:450 [inlined]",
      "  [2] Array",
      "    @ ./boot.jl:458 [inlined]",
      "  [3] similar",
      "    @ ./array.jl:358 [inlined]",
      "  [4] *",
      "    @ /buildworker/worker/package_linux64/build/usr/share/julia/stdlib/v1.6/LinearAlgebra/src/matmul.jl:153 [inlined]",
      "  [5] #1346",
      "    @ ~/.julia/packages/ChainRules/3yDBX/src/rulesets/Base/arraymath.jl:60 [inlined]",
      "  [6] unthunk",
      "    @ ~/.julia/packages/ChainRulesCore/RbX5a/src/tangent_types/thunks.jl:195 [inlined]",
      "  [7] unthunk",
      "    @ ~/.julia/packages/ChainRulesCore/RbX5a/src/tangent_types/thunks.jl:222 [inlined]",
      "  [8] wrap_chainrules_output",
      "    @ ~/.julia/packages/Zygote/H6vD3/src/compiler/chainrules.jl:104 [inlined]",
      "  [9] map",
      "    @ ./tuple.jl:215 [inlined]",
      " [10] wrap_chainrules_output",
      "    @ ~/.julia/packages/Zygote/H6vD3/src/compiler/chainrules.jl:105 [inlined]",
      " [11] (::Zygote.ZBack{ChainRules.var\"#times_pullback#1347\"{Matrix{ComplexF64}, Matrix{ComplexF64}}})(dy::Matrix{ComplexF64})",
      "    @ Zygote ~/.julia/packages/Zygote/H6vD3/src/compiler/chainrules.jl:204",
      " [12] Pullback",
      "    @ ~/.julia/packages/QuantumCircuits/Vng8l/src/QCircuits/Circuit.jl:421 [inlined]",
      " [13] (::typeof(∂(tomatrix)))(Δ::Matrix{ComplexF64})",
      "    @ Zygote ~/.julia/packages/Zygote/H6vD3/src/compiler/interface2.jl:0",
      " [14] Pullback",
      "    @ ~/.julia/packages/QuantumCircuits/Vng8l/src/Execute/Execute.jl:85 [inlined]",
      " [15] (::typeof(∂(#execute#3)))(Δ::Vector{Float64})",
      "    @ Zygote ~/.julia/packages/Zygote/H6vD3/src/compiler/interface2.jl:0",
      " [16] Pullback",
      "    @ ~/.julia/packages/QuantumCircuits/Vng8l/src/Execute/Execute.jl:83 [inlined]",
      " [17] (::typeof(∂(execute)))(Δ::Vector{Float64})",
      "    @ Zygote ~/.julia/packages/Zygote/H6vD3/src/compiler/interface2.jl:0",
      " [18] Pullback",
      "    @ ./In[4]:17 [inlined]",
      " [19] (::typeof(∂(λ)))(Δ::Float64)",
      "    @ Zygote ~/.julia/packages/Zygote/H6vD3/src/compiler/interface2.jl:0",
      " [20] (::Zygote.var\"#54#55\"{typeof(∂(λ))})(Δ::Float64)",
      "    @ Zygote ~/.julia/packages/Zygote/H6vD3/src/compiler/interface.jl:41",
      " [21] (::Zygote.var\"#56#57\"{var\"#loss#6\"{QCircuit}})(x::Vector{Number})",
      "    @ Zygote ~/.julia/packages/Zygote/H6vD3/src/compiler/interface.jl:83",
      " [22] (::var\"#dloss#7\"{var\"#loss#6\"{QCircuit}})(params::Vector{Number})",
      "    @ Main ./In[4]:18",
      " [23] (::var\"#5#8\"{var\"#dloss#7\"{var\"#loss#6\"{QCircuit}}, var\"#loss#6\"{QCircuit}})(x::Vector{Number})",
      "    @ Main ./In[4]:19",
      " [24] gradientDescent(of::OptimizationFunction, x::Vector{Number}; α::Float64, maxItr::Int64, ϵ::Float64, argsArePeriodic::Bool, isExpectedZero::Bool, debug::Bool, useBigValInc::Bool, checkFn::Nothing)",
      "    @ QuantumCircuits.QML.Optimization ~/.julia/packages/QuantumCircuits/Vng8l/src/QML/Optimization.jl:230",
      " [25] generate_ansact_param(step_qc_exp::QCircuit, maxItr::Int64)",
      "    @ Main ./In[4]:21",
      " [26] top-level scope",
      "    @ ./In[6]:40",
      " [27] eval",
      "    @ ./boot.jl:360 [inlined]",
      " [28] include_string(mapexpr::typeof(REPL.softscope), mod::Module, code::String, filename::String)",
      "    @ Base ./loading.jl:1094"
     ]
    }
   ],
   "source": [
    "\n",
    "errs = []\n",
    "errsai = []\n",
    "ts = [π/4, π/2, 3*π/4, π]\n",
    "#ts = [π]\n",
    "best_param = []\n",
    "best_qc = nothing\n",
    "for t in ts\n",
    "    println(\"Start for t=$t\")\n",
    "    qc, params, params2, params3 = generate_circuit(trotter_steps, trotter_steps, t)\n",
    "\n",
    "    full_qc = generate_empty_circuit()\n",
    "    full_qc.x([3, 5])\n",
    "    append!(full_qc, qc)\n",
    "    addMeasuresOS(full_qc)\n",
    "\n",
    "    # caclulate the end state\n",
    "    uerr = check_simulation_err(full_qc, t)\n",
    "\n",
    "    ###########################################################################\n",
    "    do_iter = 0\n",
    "    do_check = true\n",
    "    first_step = true\n",
    "    inv_ansact = []\n",
    "    for st in trotter_steps_arr\n",
    "        step_qc_exp, _, _, _ = generate_circuit(trotter_steps, st, t, params, params2, params3, init=first_step)\n",
    "        #step_qc_expmat = tomatrix(step_qc)\n",
    "        do_iter += st\n",
    "        println(\"Start AI TS $do_iter\")\n",
    "\n",
    "        if first_step\n",
    "            opt_step_qc_exp = step_qc_exp\n",
    "        else\n",
    "            opt_step_qc_exp = generate_empty_circuit()\n",
    "            append!(opt_step_qc_exp, inv_ansact)\n",
    "            append!(opt_step_qc_exp, step_qc_exp)\n",
    "        end\n",
    "\n",
    "        # find best parameters\n",
    "        best_params = generate_ansact_param(opt_step_qc_exp, 10000)\n",
    "\n",
    "        # Generate ansact\n",
    "        ansact = generate_ansact()\n",
    "        setparameters!(ansact, best_params)\n",
    "        inv_ansact = inv(ansact)\n",
    "        bindparameters!(inv_ansact)\n",
    "\n",
    "        # Check step reaults\n",
    "        if do_check && do_iter < trotter_steps\n",
    "            check_qc, _, _, _ = generate_circuit(trotter_steps, trotter_steps-do_iter, t, params, params2, params3)\n",
    "\n",
    "            # Simulate full circuit\n",
    "            check_step_qc_full = generate_empty_circuit()\n",
    "            append!(check_step_qc_full, inv_ansact)\n",
    "            append!(check_step_qc_full, check_qc)\n",
    "            # Add measures\n",
    "            addMeasuresOS(check_step_qc_full)\n",
    "\n",
    "            # do check\n",
    "            check_err = check_simulation_err(check_step_qc_full, t)\n",
    "            check_err2 = check_circuits_err(full_qc, check_step_qc_full)\n",
    "            println(\"Check value: $check_err, $check_err2\")\n",
    "            @assert check_err2 < 10e-2\n",
    "        end\n",
    "\n",
    "        # next initmat\n",
    "        first_step = false\n",
    "    end\n",
    "\n",
    "    ###########################################################################\n",
    "    addMeasuresOS(inv_ansact)\n",
    "    check_err = check_simulation_err(inv_ansact, t)\n",
    "    check_err2 = check_circuits_err(full_qc, inv_ansact)\n",
    "    append!(errs, check_err)\n",
    "    append!(errsai, check_err2)\n",
    "end"
   ]
  },
  {
   "cell_type": "code",
   "execution_count": null,
   "id": "9008bfe5",
   "metadata": {},
   "outputs": [],
   "source": [
    "println(\"==============================\")\n",
    "#println(\"The error is $(sum(errs)).\")\n",
    "println(\"The error Ai is $(mean(errsai)).\")\n",
    "println(\"==============================\")"
   ]
  }
 ],
 "metadata": {
  "kernelspec": {
   "display_name": "Julia 1.6.1",
   "language": "julia",
   "name": "julia-1.6"
  },
  "language_info": {
   "file_extension": ".jl",
   "mimetype": "application/julia",
   "name": "julia",
   "version": "1.6.1"
  }
 },
 "nbformat": 4,
 "nbformat_minor": 5
}
