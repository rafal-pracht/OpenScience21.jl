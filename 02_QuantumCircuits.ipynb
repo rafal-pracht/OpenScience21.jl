{
 "cells": [
  {
   "cell_type": "markdown",
   "id": "930d77cf",
   "metadata": {},
   "source": [
    "# 1 Introduction\n",
    "First, we have to activate the environment. The first run may take a while as external libraries will be downloaded and compiled."
   ]
  },
  {
   "cell_type": "code",
   "execution_count": 1,
   "id": "316157fe",
   "metadata": {},
   "outputs": [],
   "source": [
    "Pkg.activate(\".\")"
   ]
  },
  {
   "cell_type": "markdown",
   "id": "16c995e5",
   "metadata": {},
   "source": [
    "QuantumCircuits is Julia library and tt is available through the Julia package repository \"Pkg\". The sources are available on [GitHub](https://github.com/Adgnitio/QuantumCircuits.jl)."
   ]
  },
  {
   "cell_type": "code",
   "execution_count": 6,
   "id": "8dff9666",
   "metadata": {},
   "outputs": [],
   "source": [
    "using QuantumCircuits\n",
    "using QuantumCircuits.Execute"
   ]
  },
  {
   "cell_type": "markdown",
   "id": "a7789af6",
   "metadata": {},
   "source": [
    "We have various types of backends at our disposal, the simulator written in Julia, the Qiskit simulator, or real device available by Qiskit."
   ]
  },
  {
   "cell_type": "code",
   "execution_count": null,
   "id": "c87a1515",
   "metadata": {},
   "outputs": [],
   "source": [
    "# We use the simulator written in Julia\n",
    "const backend = QuantumSimulator()"
   ]
  },
  {
   "cell_type": "markdown",
   "id": "33d6662d",
   "metadata": {},
   "source": [
    "Let's create an example circuit."
   ]
  },
  {
   "cell_type": "code",
   "execution_count": 14,
   "id": "cfc654c4",
   "metadata": {},
   "outputs": [
    {
     "data": {
      "text/plain": [
       "      ┌───┐     \n",
       "q2_0: ┤ X ├──■──\n",
       "      ├───┤┌─┴─┐\n",
       "q2_1: ┤ H ├┤ X ├\n",
       "      └───┘└───┘\n",
       "c2: 2/══════════\n",
       "                "
      ]
     },
     "execution_count": 14,
     "metadata": {},
     "output_type": "execute_result"
    }
   ],
   "source": [
    "qc1 = QCircuit(2)\n",
    "qc1.x(0)\n",
    "qc1.h(1)\n",
    "qc1.cx(0, 1)\n",
    "qc1"
   ]
  },
  {
   "cell_type": "markdown",
   "id": "554ff51a",
   "metadata": {},
   "source": [
    "Now, we can execute it. Because there is no measurement, we measure all qubits."
   ]
  },
  {
   "cell_type": "code",
   "execution_count": 9,
   "id": "ebf70f37",
   "metadata": {},
   "outputs": [
    {
     "data": {
      "text/plain": [
       "4-element Vector{Float64}:\n",
       " 0.0\n",
       " 0.4999999999999999\n",
       " 0.0\n",
       " 0.5000000000000001"
      ]
     },
     "execution_count": 9,
     "metadata": {},
     "output_type": "execute_result"
    }
   ],
   "source": [
    "execute(backend, qc1)"
   ]
  },
  {
   "cell_type": "markdown",
   "id": "4e0bdfcf",
   "metadata": {},
   "source": [
    "We can also add measurement explicitly."
   ]
  },
  {
   "cell_type": "code",
   "execution_count": 15,
   "id": "a05fa631",
   "metadata": {},
   "outputs": [
    {
     "data": {
      "text/plain": [
       "      ┌───┐        \n",
       "q3_0: ┤ X ├──■─────\n",
       "      ├───┤┌─┴─┐┌─┐\n",
       "q3_1: ┤ H ├┤ X ├┤M├\n",
       "      └───┘└───┘└╥┘\n",
       "c3: 2/═══════════╩═\n",
       "                 1 "
      ]
     },
     "execution_count": 15,
     "metadata": {},
     "output_type": "execute_result"
    }
   ],
   "source": [
    "qc1.measure(1, 1)\n",
    "qc1"
   ]
  },
  {
   "cell_type": "code",
   "execution_count": 11,
   "id": "91a4edff",
   "metadata": {},
   "outputs": [
    {
     "data": {
      "text/plain": [
       "2-element Vector{Float64}:\n",
       " 0.4999999999999999\n",
       " 0.5000000000000001"
      ]
     },
     "execution_count": 11,
     "metadata": {},
     "output_type": "execute_result"
    }
   ],
   "source": [
    "execute(backend, qc1)"
   ]
  },
  {
   "cell_type": "markdown",
   "id": "d7f80557",
   "metadata": {},
   "source": [
    "# Registers\n",
    "We can also create circuit with registers directly."
   ]
  },
  {
   "cell_type": "code",
   "execution_count": 18,
   "id": "3e443eaa",
   "metadata": {},
   "outputs": [
    {
     "data": {
      "text/plain": [
       "      ┌───┐┌─┐   \n",
       "q5_0: ┤ H ├┤M├───\n",
       "      ├───┤└╥┘┌─┐\n",
       "q5_1: ┤ X ├─╫─┤M├\n",
       "      ├───┤ ║ └╥┘\n",
       "q5_2: ┤ X ├─╫──╫─\n",
       "      └───┘ ║  ║ \n",
       "c5: 2/══════╩══╩═\n",
       "            0  1 "
      ]
     },
     "execution_count": 18,
     "metadata": {},
     "output_type": "execute_result"
    }
   ],
   "source": [
    "qr = QuantumRegister(3)\n",
    "cr = ClassicalRegister(2)\n",
    "qc = QCircuit(qr, cr)\n",
    "qc.h(0)\n",
    "qc.x(1)\n",
    "qc.x(2)\n",
    "qc.measure([0, 1], [0, 1])\n",
    "qc"
   ]
  },
  {
   "cell_type": "code",
   "execution_count": 19,
   "id": "6f175157",
   "metadata": {},
   "outputs": [
    {
     "data": {
      "text/plain": [
       "4-element Vector{Float64}:\n",
       " 0.0\n",
       " 0.0\n",
       " 0.5000000000000001\n",
       " 0.4999999999999999"
      ]
     },
     "execution_count": 19,
     "metadata": {},
     "output_type": "execute_result"
    }
   ],
   "source": [
    "execute(backend, qc)"
   ]
  }
 ],
 "metadata": {
  "kernelspec": {
   "display_name": "Julia 1.6.1",
   "language": "julia",
   "name": "julia-1.6"
  },
  "language_info": {
   "file_extension": ".jl",
   "mimetype": "application/julia",
   "name": "julia",
   "version": "1.6.1"
  }
 },
 "nbformat": 4,
 "nbformat_minor": 5
}
