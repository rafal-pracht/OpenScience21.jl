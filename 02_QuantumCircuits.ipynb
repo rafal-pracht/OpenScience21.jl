{
 "cells": [
  {
   "cell_type": "markdown",
   "metadata": {},
   "source": [
    "# 1 Introduction\n",
    "First, we have to activate the environment. The first run may take a while as external libraries will be downloaded and compiled."
   ]
  },
  {
   "cell_type": "code",
   "execution_count": 1,
   "metadata": {},
   "outputs": [
    {
     "name": "stderr",
     "output_type": "stream",
     "text": [
      "\u001b[32m\u001b[1m  Activating\u001b[22m\u001b[39m project at `~/code/OpenScience21.jl`\n"
     ]
    }
   ],
   "source": [
    "Pkg.activate(\".\")"
   ]
  },
  {
   "cell_type": "markdown",
   "metadata": {},
   "source": [
    "QuantumCircuits is Julia library and tt is available through the Julia package repository \"Pkg\". The sources are available on [GitHub](https://github.com/Adgnitio/QuantumCircuits.jl)."
   ]
  },
  {
   "cell_type": "code",
   "execution_count": 2,
   "metadata": {},
   "outputs": [],
   "source": [
    "using QuantumCircuits\n",
    "using QuantumCircuits.Execute"
   ]
  },
  {
   "cell_type": "markdown",
   "metadata": {},
   "source": [
    "We have various types of backends at our disposal, the simulator written in Julia, the Qiskit simulator, or real device available by Qiskit."
   ]
  },
  {
   "cell_type": "code",
   "execution_count": 3,
   "metadata": {},
   "outputs": [
    {
     "data": {
      "text/plain": [
       "QuantumSimulator()"
      ]
     },
     "execution_count": 3,
     "metadata": {},
     "output_type": "execute_result"
    }
   ],
   "source": [
    "# We use the simulator written in Julia\n",
    "const backend = QuantumSimulator()"
   ]
  },
  {
   "cell_type": "markdown",
   "metadata": {},
   "source": [
    "Let's create an example circuit."
   ]
  },
  {
   "cell_type": "code",
   "execution_count": 4,
   "metadata": {},
   "outputs": [
    {
     "data": {
      "text/plain": [
       "      ┌───┐     \n",
       "q0_0: ┤ X ├──■──\n",
       "      ├───┤┌─┴─┐\n",
       "q0_1: ┤ H ├┤ X ├\n",
       "      └───┘└───┘\n",
       "c0: 2/══════════\n",
       "                "
      ]
     },
     "execution_count": 4,
     "metadata": {},
     "output_type": "execute_result"
    }
   ],
   "source": [
    "qc1 = QCircuit(2)\n",
    "qc1.x(0)\n",
    "qc1.h(1)\n",
    "qc1.cx(0, 1)\n",
    "qc1"
   ]
  },
  {
   "cell_type": "markdown",
   "metadata": {},
   "source": [
    "Now, we can execute it. Because there is no measurement, we measure all qubits."
   ]
  },
  {
   "cell_type": "code",
   "execution_count": 5,
   "metadata": {},
   "outputs": [
    {
     "data": {
      "text/plain": [
       "4-element Vector{Float64}:\n",
       " 0.0\n",
       " 0.4999999999999999\n",
       " 0.0\n",
       " 0.5000000000000001"
      ]
     },
     "execution_count": 5,
     "metadata": {},
     "output_type": "execute_result"
    }
   ],
   "source": [
    "execute(backend, qc1)"
   ]
  },
  {
   "cell_type": "markdown",
   "metadata": {},
   "source": [
    "We can also add measurement explicitly."
   ]
  },
  {
   "cell_type": "code",
   "execution_count": 6,
   "metadata": {},
   "outputs": [
    {
     "data": {
      "text/plain": [
       "      ┌───┐        \n",
       "q1_0: ┤ X ├──■─────\n",
       "      ├───┤┌─┴─┐┌─┐\n",
       "q1_1: ┤ H ├┤ X ├┤M├\n",
       "      └───┘└───┘└╥┘\n",
       "c1: 2/═══════════╩═\n",
       "                 1 "
      ]
     },
     "execution_count": 6,
     "metadata": {},
     "output_type": "execute_result"
    }
   ],
   "source": [
    "qc1.measure(1, 1)\n",
    "qc1"
   ]
  },
  {
   "cell_type": "code",
   "execution_count": 7,
   "metadata": {},
   "outputs": [
    {
     "data": {
      "text/plain": [
       "2-element Vector{Float64}:\n",
       " 0.4999999999999999\n",
       " 0.5000000000000001"
      ]
     },
     "execution_count": 7,
     "metadata": {},
     "output_type": "execute_result"
    }
   ],
   "source": [
    "execute(backend, qc1)"
   ]
  },
  {
   "cell_type": "markdown",
   "metadata": {},
   "source": [
    "# Registers\n",
    "We can also create circuit with registers directly."
   ]
  },
  {
   "cell_type": "code",
   "execution_count": 8,
   "metadata": {},
   "outputs": [
    {
     "data": {
      "text/plain": [
       "      ┌───┐┌─┐   \n",
       "q2_0: ┤ H ├┤M├───\n",
       "      ├───┤└╥┘┌─┐\n",
       "q2_1: ┤ X ├─╫─┤M├\n",
       "      ├───┤ ║ └╥┘\n",
       "q2_2: ┤ X ├─╫──╫─\n",
       "      └───┘ ║  ║ \n",
       "c2: 2/══════╩══╩═\n",
       "            0  1 "
      ]
     },
     "execution_count": 8,
     "metadata": {},
     "output_type": "execute_result"
    }
   ],
   "source": [
    "qr = QuantumRegister(3)\n",
    "cr = ClassicalRegister(2)\n",
    "qc = QCircuit(qr, cr)\n",
    "qc.h(0)\n",
    "qc.x(1)\n",
    "qc.x(2)\n",
    "qc.measure([0, 1], [0, 1])\n",
    "qc"
   ]
  },
  {
   "cell_type": "code",
   "execution_count": 9,
   "metadata": {},
   "outputs": [
    {
     "data": {
      "text/plain": [
       "4-element Vector{Float64}:\n",
       " 0.0\n",
       " 0.0\n",
       " 0.5000000000000001\n",
       " 0.4999999999999999"
      ]
     },
     "execution_count": 9,
     "metadata": {},
     "output_type": "execute_result"
    }
   ],
   "source": [
    "execute(backend, qc)"
   ]
  }
 ],
 "metadata": {
  "kernelspec": {
   "display_name": "Julia 1.7.2",
   "language": "julia",
   "name": "julia-1.7"
  },
  "language_info": {
   "file_extension": ".jl",
   "mimetype": "application/julia",
   "name": "julia",
   "version": "1.7.2"
  }
 },
 "nbformat": 4,
 "nbformat_minor": 5
}
